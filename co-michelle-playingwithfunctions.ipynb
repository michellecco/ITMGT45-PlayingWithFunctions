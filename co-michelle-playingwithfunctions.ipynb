{
 "cells": [
  {
   "cell_type": "markdown",
   "metadata": {},
   "source": [
    "195705 Co 2 BS ITE"
   ]
  },
  {
   "cell_type": "markdown",
   "metadata": {},
   "source": [
    "## Playing With Functions\n",
    "\n",
    "These exercises are designed to strengthen your grasp on basic programming concepts. Read what is required of you carefully. For example, instructions to return values are not the same as those of printing.\n",
    "\n",
    "Make sure that cells are in script mode (not interactive mode).\n",
    "\n",
    "## 1\n",
    "\n",
    "### 1 point\n",
    "\n",
    "Write a function that takes the circumference of a circle as a parameter and returns the area of that circle.\n",
    "\n",
    "Note: Assume the value of pi is 3.1416"
   ]
  },
  {
   "cell_type": "code",
   "execution_count": 6,
   "metadata": {},
   "outputs": [
    {
     "name": "stdout",
     "output_type": "stream",
     "text": [
      "Please enter circumference3\n",
      "Area of the Circle: 0.7161955691367455\n"
     ]
    }
   ],
   "source": [
    "def compute_radius(c):\n",
    "    r = c / (3.1416*2)\n",
    "    return r\n",
    "\n",
    "def compute_area(r):\n",
    "    a = 3.1416*(r**2)\n",
    "    return a\n",
    "\n",
    "# ask for circumference\n",
    "c = int(input(\"Please enter circumference\"))\n",
    "\n",
    "# radius\n",
    "r = compute_radius (c)\n",
    "\n",
    "# area\n",
    "a = compute_area (r)\n",
    "\n",
    "# display area\n",
    "print(\"Area of the Circle:\", a)"
   ]
  },
  {
   "cell_type": "markdown",
   "metadata": {},
   "source": [
    "## 2\n",
    "\n",
    "### 2 points\n",
    "\n",
    "Write a function that takes a 5-character string as a parameter and returns the string in reverse order.\n",
    "\n",
    "e.g. reverseString(\"Hello\") -> \"olleH\""
   ]
  },
  {
   "cell_type": "code",
   "execution_count": 7,
   "metadata": {},
   "outputs": [
    {
     "name": "stdout",
     "output_type": "stream",
     "text": [
      "Enter a word:Hello\n",
      "olleH\n"
     ]
    }
   ],
   "source": [
    "def reverse_string(x):\n",
    "    y = x[::-1]\n",
    "    return y\n",
    "\n",
    "# ask for a random word\n",
    "x = input(\"Enter a word:\")\n",
    "\n",
    "# reverse string\n",
    "y = reverse_string (x)\n",
    "\n",
    "# display reverse\n",
    "print(reverse_string(x))"
   ]
  },
  {
   "cell_type": "markdown",
   "metadata": {},
   "source": [
    "## 3\n",
    "\n",
    "### 2 points\n",
    "\n",
    "Write a function that takes a positive integer as input and returns the sum of all positive integers smaller than and including the number itself.\n",
    "\n",
    "e.g. backAddition(5) -> 1 + 2 + 3 + 4 + 5 -> 15"
   ]
  },
  {
   "cell_type": "code",
   "execution_count": 9,
   "metadata": {},
   "outputs": [
    {
     "name": "stdout",
     "output_type": "stream",
     "text": [
      "Enter an integer:5\n",
      "15\n"
     ]
    }
   ],
   "source": [
    "def back_addition (a,b):\n",
    "    for i in range (a):\n",
    "        b += a - i\n",
    "    return b\n",
    "\n",
    "# input positive integer\n",
    "a = int(input(\"Enter an integer:\"))\n",
    "\n",
    "# least\n",
    "b = 0\n",
    "\n",
    "# sum\n",
    "c = back_addition (a,b)\n",
    "\n",
    "# display sum\n",
    "print(c)"
   ]
  },
  {
   "cell_type": "markdown",
   "metadata": {},
   "source": [
    "## 4\n",
    "\n",
    "### 5 points (all or nothing)\n",
    "\n",
    "The sum of the squares of the first ten natural numbers is, 12 + 22 + ... + 102 = 385\n",
    "\n",
    "The square of the sum of the first ten natural numbers is, (1 + 2 + ... + 10)2 = 552 = 3025\n",
    "\n",
    "Hence the difference between the sum of the squares of the first ten natural numbers and the square of the sum is 3025 − 385 = 2640.\n",
    "\n",
    "Find the difference between the sum of the squares of the first one hundred natural numbers and the square of the sum.\n",
    "\n",
    "Show code that generates the answer."
   ]
  },
  {
   "cell_type": "code",
   "execution_count": 10,
   "metadata": {},
   "outputs": [
    {
     "name": "stdout",
     "output_type": "stream",
     "text": [
      "2544987500.0\n"
     ]
    }
   ],
   "source": [
    "def difference_of_sum(x):\n",
    "    a = ((x/2)*((10*x)+14))**2\n",
    "    b = ((x/2)*(x+1))**2\n",
    "    difference_of_sum = a - b\n",
    "    return difference_of_sum\n",
    "print(difference_of_sum(100))\n",
    "\n",
    "# sum 1\n",
    "# 12+22+32+42+52+62+72+82+92+102\n",
    "# sn=(n/2)(2a1+(n-1)d)\n",
    "# sn=(n/2)(24+(n-1)d)\n",
    "# sn=(n/2)(10n+14)\n",
    "\n",
    "# sum 2\n",
    "# 1+2+3+4+5+6+7+8+9+10\n",
    "# sn=(n/2)(2a1+(n-1)d)\n",
    "# sn=(n/2)(2+(n-1)1)\n",
    "# sn=(n/2)(n+1)"
   ]
  },
  {
   "cell_type": "markdown",
   "metadata": {},
   "source": [
    "## 5\n",
    "\n",
    "### 5 points\n",
    "\n",
    "5 points\n",
    "Write a function that allows a self-service Point of Sale system to give you the exact change when you pay in cash.\n",
    "\n",
    "The function should accept the number of cents entered by the caller of the function. It then should display the denominations of the coins that should be given to the buyer. The change should use as few coins as possible. Assume that the Point of Sale system is loaded with 1 cent, 5 cents, 10 cents, 25 cents and 1 peso coins.\n",
    "\n",
    "Write main program code that accepts the number of cents manually through user input and calls the function written above.\n",
    "\n",
    "Input: The program accepts one positive integer, cents, corresponding to the total change to be given by the Point of Sale system.\n",
    "\n",
    "Output: The number of 1 peso, 25 cents, 10 cents, 5 cents and 1 cent coins respectively. There should be one output per line.\n",
    "\n",
    "Sample Input 1:\n",
    "105\n",
    "\n",
    "Sample Output 1\n",
    "1\n",
    "0\n",
    "0\n",
    "1\n",
    "0\n",
    "\n",
    "Sample Input 2:\n",
    "69\n",
    "\n",
    "Sample Output 2:\n",
    "0\n",
    "2\n",
    "1\n",
    "1\n",
    "4"
   ]
  },
  {
   "cell_type": "code",
   "execution_count": 1,
   "metadata": {},
   "outputs": [
    {
     "name": "stdout",
     "output_type": "stream",
     "text": [
      "Please enter total cents value:105\n",
      "1\n",
      "0\n",
      "0\n",
      "1\n",
      "0\n"
     ]
    }
   ],
   "source": [
    "def change (x):\n",
    "    a = 0\n",
    "    b = 0\n",
    "    c = 0\n",
    "    d = 0\n",
    "    e = 0\n",
    "    \n",
    "    while x > 0:\n",
    "        if x >= 100:\n",
    "            x -= 100\n",
    "            a += 1\n",
    "        elif x >= 25:\n",
    "            x -+ 25\n",
    "            b += 1\n",
    "        elif x >= 10:\n",
    "            x -= 10\n",
    "            c += 1\n",
    "        elif x >= 5:\n",
    "            x -= 5\n",
    "            d += 1\n",
    "        elif x >= 1:\n",
    "            x -= 1\n",
    "            e += 1\n",
    "    return a,b,c,d,e\n",
    "\n",
    "# ask for total of cents:\n",
    "x = int(input(\"Please enter total cents value:\"))\n",
    "\n",
    "for i in change (x):\n",
    "    print(i)\n"
   ]
  },
  {
   "cell_type": "code",
   "execution_count": null,
   "metadata": {},
   "outputs": [],
   "source": []
  }
 ],
 "metadata": {
  "kernelspec": {
   "display_name": "Python 3",
   "language": "python",
   "name": "python3"
  },
  "language_info": {
   "codemirror_mode": {
    "name": "ipython",
    "version": 3
   },
   "file_extension": ".py",
   "mimetype": "text/x-python",
   "name": "python",
   "nbconvert_exporter": "python",
   "pygments_lexer": "ipython3",
   "version": "3.8.3"
  }
 },
 "nbformat": 4,
 "nbformat_minor": 4
}
